{
 "cells": [
  {
   "cell_type": "code",
   "execution_count": null,
   "id": "740e1e40-d683-42c5-bd19-aa2d884a2790",
   "metadata": {},
   "outputs": [],
   "source": []
  },
  {
   "cell_type": "markdown",
   "id": "c61b3d16-1b4e-491c-aad4-4b3de0146b9b",
   "metadata": {},
   "source": [
    "{'python': 420,\n",
    " 'react': 217,\n",
    " 'django': 42,\n",
    " 'angular': 85,\n",
    " 'rails': 79,\n",
    " 'mysql': 134,\n",
    " 'javascript': 220,\n",
    " 'elasticsearch': 110,\n",
    " 'java': 348,\n",
    " 'spring': 114,\n",
    " 'typescript': 160,\n",
    " 'go': 178,\n",
    " 'perl': 21,\n",
    " 'postgresql': 156,\n",
    " 'redis': 73,\n",
    " 'c++': 57,\n",
    " 'mongodb': 26,\n",
    " 'lua': 11,\n",
    " 'node.js': 37,\n",
    " 'snowflake': 2,\n",
    " 'c#': 74,\n",
    " '.net': 21,\n",
    " 'ruby': 67,\n",
    " 'pytorch': 13,\n",
    " 'php': 25,\n",
    " 'elixir': 21,\n",
    " 'kotlin': 10,\n",
    " 'mariadb': 10,\n",
    " 'golang': 9,\n",
    " 'flutter': 2}"
   ]
  }
 ],
 "metadata": {
  "kernelspec": {
   "display_name": "Python 3 (ipykernel)",
   "language": "python",
   "name": "python3"
  },
  "language_info": {
   "name": ""
  }
 },
 "nbformat": 4,
 "nbformat_minor": 5
}
